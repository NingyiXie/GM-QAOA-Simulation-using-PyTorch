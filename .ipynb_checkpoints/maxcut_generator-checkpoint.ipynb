{
 "cells": [
  {
   "cell_type": "code",
   "execution_count": 1,
   "id": "8658afd7-b164-4cf2-96d1-9d0f1407bb21",
   "metadata": {},
   "outputs": [],
   "source": [
    "import networkx as nx\n",
    "import json"
   ]
  },
  {
   "cell_type": "code",
   "execution_count": 2,
   "id": "e92d2f26-71d9-4d4a-a1dd-687cb49c5bde",
   "metadata": {},
   "outputs": [],
   "source": [
    "def generate_unique_graphs(n, num):\n",
    "    graphs = []\n",
    "    edges_list = []\n",
    "\n",
    "    while len(graphs) < num:\n",
    "        # Generate a random graph with n nodes and edge probability 0.5\n",
    "        # G = nx.fast_gnp_random_graph(n, 0.5)\n",
    "        # Generate a regular graph\n",
    "        G = nx.random_regular_graph(3, n)\n",
    "        # Check if the graph is connected\n",
    "        if not nx.is_connected(G):\n",
    "            continue\n",
    "\n",
    "        # Check if the graph is isomorphic to any previously added graph\n",
    "        if any(nx.is_isomorphic(G, H) for H in graphs):\n",
    "            continue\n",
    "\n",
    "        # Add the graph to the list if it's unique and connected\n",
    "        graphs.append(G)\n",
    "        edges_list.append(list(G.edges()))\n",
    "\n",
    "    return edges_list"
   ]
  },
  {
   "cell_type": "code",
   "execution_count": 3,
   "id": "424ae454-4c1a-40bc-8ca3-ab7dba032497",
   "metadata": {},
   "outputs": [],
   "source": [
    "n16_30_maxcuts = {}\n",
    "for n in range(16,31,2):\n",
    "    n16_30_maxcuts[str(n)] = generate_unique_graphs(n, 48)"
   ]
  },
  {
   "cell_type": "code",
   "execution_count": 4,
   "id": "fc8b4199-ae6d-40ce-95c9-158689108abc",
   "metadata": {},
   "outputs": [],
   "source": [
    "with open(\"n16_30_maxcuts_regular3.json\", \"w\") as outfile: \n",
    "    json.dump(n16_30_maxcuts, outfile)"
   ]
  },
  {
   "cell_type": "code",
   "execution_count": null,
   "id": "ad672773-b2cc-4762-90e7-ecef1b6ddbcb",
   "metadata": {},
   "outputs": [],
   "source": []
  },
  {
   "cell_type": "code",
   "execution_count": null,
   "id": "2c9b9be4-b704-46c9-8883-47ed49b366a1",
   "metadata": {},
   "outputs": [],
   "source": []
  }
 ],
 "metadata": {
  "kernelspec": {
   "display_name": "Python 3 (ipykernel)",
   "language": "python",
   "name": "python3"
  },
  "language_info": {
   "codemirror_mode": {
    "name": "ipython",
    "version": 3
   },
   "file_extension": ".py",
   "mimetype": "text/x-python",
   "name": "python",
   "nbconvert_exporter": "python",
   "pygments_lexer": "ipython3",
   "version": "3.10.8"
  }
 },
 "nbformat": 4,
 "nbformat_minor": 5
}
