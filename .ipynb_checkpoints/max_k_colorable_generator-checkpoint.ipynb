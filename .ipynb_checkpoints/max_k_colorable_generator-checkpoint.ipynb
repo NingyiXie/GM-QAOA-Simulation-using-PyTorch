{
 "cells": [
  {
   "cell_type": "code",
   "execution_count": 1,
   "id": "88241e6c-7b90-46da-9417-e46ec8bd8708",
   "metadata": {},
   "outputs": [],
   "source": [
    "import networkx as nx\n",
    "from collections import defaultdict\n",
    "import numpy as np\n",
    "import json"
   ]
  },
  {
   "cell_type": "code",
   "execution_count": 2,
   "id": "706282cd-fe9e-484a-85ea-86e6b9bba8c1",
   "metadata": {},
   "outputs": [],
   "source": [
    "def generate_graphs(N, num_graph):\n",
    "    data = defaultdict(list)  # 修改这里，使data[K]成为列表\n",
    "    unique_graphs = defaultdict(list)  # 按K值存储已生成的图列表，便于进行同构性检查\n",
    "\n",
    "    generated_graphs = 0  # 用于追踪已生成的图数量\n",
    "\n",
    "    while generated_graphs < num_graph:\n",
    "        # Define the list of numbers\n",
    "        numbers = [0.3, 0.4, 0.5, 0.6, 0.7]\n",
    "        # Randomly select a number from the list\n",
    "        selected_number = np.random.choice(numbers)\n",
    "        \n",
    "        G = nx.fast_gnp_random_graph(N, selected_number)\n",
    "        if nx.is_connected(G):  # 确保图是连通的\n",
    "            # 使用贪心算法找到最小色数K\n",
    "            coloring = nx.greedy_color(G, strategy=\"largest_first\")\n",
    "            K = len(set(coloring.values()))\n",
    "\n",
    "            # 检查新生成的图是否与已存在的图同构\n",
    "            is_new_graph = True\n",
    "            for existing_graph in unique_graphs[K]:\n",
    "                if nx.is_isomorphic(G, existing_graph):\n",
    "                    is_new_graph = False\n",
    "                    break\n",
    "\n",
    "            if is_new_graph:\n",
    "                data[str(K)].append([list(edge) for edge in G.edges()])  # 直接追加边列表\n",
    "                unique_graphs[str(K)].append(G)  # 存储这个图用于后续的同构性检查\n",
    "                generated_graphs += 1\n",
    "\n",
    "    return data"
   ]
  },
  {
   "cell_type": "code",
   "execution_count": 3,
   "id": "3962ec55-3d05-440a-a02e-695b771e95e0",
   "metadata": {},
   "outputs": [],
   "source": [
    "# # 示例调用\n",
    "# N = 5  # 节点数\n",
    "# num_graph = 10  # 要生成的图的数量\n",
    "# data = dict(generate_graphs(N, num_graph))\n",
    "# print(data)"
   ]
  },
  {
   "cell_type": "code",
   "execution_count": 4,
   "id": "9cd548e0-c42e-4de5-8f00-059e41b2eb11",
   "metadata": {},
   "outputs": [],
   "source": [
    "with open('large_max_k_colorable_problems.json', 'r') as file:\n",
    "    problem = json.load(file)\n",
    "problem[str(16)] = dict(generate_graphs(16, 5000))\n",
    "problem[str(17)] = dict(generate_graphs(17, 6000))\n",
    "problem[str(18)] = dict(generate_graphs(18, 12000))"
   ]
  },
  {
   "cell_type": "code",
   "execution_count": 5,
   "id": "6e54fd52-5125-4120-9e9a-08f0475ae16d",
   "metadata": {},
   "outputs": [],
   "source": [
    "with open('n9_18_maxKcolorable.json', 'w') as f:\n",
    "    json.dump(problem, f)"
   ]
  },
  {
   "cell_type": "code",
   "execution_count": null,
   "id": "c0646f79-c5bb-45b4-9f23-f2a49ebe78a0",
   "metadata": {},
   "outputs": [],
   "source": []
  }
 ],
 "metadata": {
  "kernelspec": {
   "display_name": "Python 3 (ipykernel)",
   "language": "python",
   "name": "python3"
  },
  "language_info": {
   "codemirror_mode": {
    "name": "ipython",
    "version": 3
   },
   "file_extension": ".py",
   "mimetype": "text/x-python",
   "name": "python",
   "nbconvert_exporter": "python",
   "pygments_lexer": "ipython3",
   "version": "3.10.8"
  }
 },
 "nbformat": 4,
 "nbformat_minor": 5
}
