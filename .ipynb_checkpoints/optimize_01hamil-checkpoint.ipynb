{
 "cells": [
  {
   "cell_type": "code",
   "execution_count": 1,
   "id": "7d77a352-53d3-483c-95d3-178a250e6067",
   "metadata": {},
   "outputs": [],
   "source": [
    "from gmqaoa import GMQAOA\n",
    "\n",
    "import numpy as np\n",
    "from fractions import Fraction\n",
    "import torch\n",
    "\n",
    "from tqdm import tqdm"
   ]
  },
  {
   "cell_type": "code",
   "execution_count": 2,
   "id": "de439b04-7ad2-4358-aaa4-e13aa9570fb8",
   "metadata": {},
   "outputs": [
    {
     "name": "stdout",
     "output_type": "stream",
     "text": [
      "[[0 7]\n",
      " [1 1]]\n"
     ]
    }
   ],
   "source": [
    "def create_distribution(r):\n",
    "    # Ensure r is within the valid range [0, 1]\n",
    "    if not (0 <= r <= 1):\n",
    "        return \"r must be within the interval [0, 1].\"\n",
    "\n",
    "    # Convert r to its simplest fraction form\n",
    "    frac = Fraction(r).limit_denominator()\n",
    "    a11 = frac.numerator\n",
    "    a01 = frac.denominator - a11  # Since we need a01 + a11 to be as small as possible\n",
    "\n",
    "    # Construct the 2x2 numpy array with specified conditions\n",
    "    a = np.array([[0, a01], [1, a11]])\n",
    "    return a"
   ]
  },
  {
   "cell_type": "code",
   "execution_count": null,
   "id": "41f78cda-da22-4148-9abb-e1622102bee4",
   "metadata": {},
   "outputs": [],
   "source": []
  },
  {
   "cell_type": "code",
   "execution_count": null,
   "id": "32eca419-4add-4111-a886-7e4573ad437a",
   "metadata": {},
   "outputs": [],
   "source": [
    "def get_r_vs_p_opt(p):\n",
    "    if torch.cuda.is_available():\n",
    "        device = torch.device(\"cuda\")\n",
    "        # print(\"cuda is available\")\n",
    "    else:\n",
    "        device = torch.device(\"cpu\")\n",
    "        # print(\"use cpus\")\n",
    "        \n",
    "    rs = np.linspace(0,1,10001)[1:]\n",
    "    results = np.zeros((len(rs),3+2*p))\n",
    "    \n",
    "    for idx in tqdm(range(len(rs))):\n",
    "        r = rs[idx]\n",
    "        \n",
    "        if r != 1:\n",
    "            dist = torch.tensor(create_distribution(r), device=device)\n",
    "            popt = GMQAOA(p,dist,target_metric='p_opt')\n",
    "            popt.initializing()\n",
    "            popt.run()\n",
    "            gammas = popt.gammas.tolist()\n",
    "            betas = popt.betas.tolist()\n",
    "            p_opt = popt.p_opt_value\n",
    "\n",
    "        elif r == 1:\n",
    "            gammas = [0]*p\n",
    "            betas = [0]*p\n",
    "            p_opt = 1\n",
    "            \n",
    "        results[idx] = [r]+[p_opt]+[p_opt/r]+gammas+betas\n",
    "    \n",
    "    return results"
   ]
  },
  {
   "cell_type": "code",
   "execution_count": 20,
   "id": "c3358a9b-fde1-4284-a5ed-cc39483516ad",
   "metadata": {},
   "outputs": [],
   "source": [
    "rs= np.linspace(0,1,10001)[1:]"
   ]
  },
  {
   "cell_type": "code",
   "execution_count": 23,
   "id": "0332f61b-8346-4b53-8024-c295091eefc8",
   "metadata": {},
   "outputs": [
    {
     "data": {
      "text/plain": [
       "10000"
      ]
     },
     "execution_count": 23,
     "metadata": {},
     "output_type": "execute_result"
    }
   ],
   "source": [
    "len(rs)"
   ]
  },
  {
   "cell_type": "code",
   "execution_count": 22,
   "id": "78cca957-858e-4630-92fa-c7a1ba2e08b8",
   "metadata": {},
   "outputs": [
    {
     "data": {
      "text/plain": [
       "array([[0, 0],\n",
       "       [1, 1]])"
      ]
     },
     "execution_count": 22,
     "metadata": {},
     "output_type": "execute_result"
    }
   ],
   "source": [
    "create_matrix(1)"
   ]
  },
  {
   "cell_type": "code",
   "execution_count": null,
   "id": "61d740e0-7970-45b9-bfd0-e3ee84b9bb48",
   "metadata": {},
   "outputs": [],
   "source": []
  }
 ],
 "metadata": {
  "kernelspec": {
   "display_name": "Python 3 (ipykernel)",
   "language": "python",
   "name": "python3"
  },
  "language_info": {
   "codemirror_mode": {
    "name": "ipython",
    "version": 3
   },
   "file_extension": ".py",
   "mimetype": "text/x-python",
   "name": "python",
   "nbconvert_exporter": "python",
   "pygments_lexer": "ipython3",
   "version": "3.10.8"
  }
 },
 "nbformat": 4,
 "nbformat_minor": 5
}
