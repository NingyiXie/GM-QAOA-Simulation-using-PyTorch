{
 "cells": [
  {
   "cell_type": "code",
   "execution_count": 1,
   "id": "599108f1-4926-4695-ae2a-ac98a74fdb01",
   "metadata": {},
   "outputs": [],
   "source": [
    "import numpy as np\n",
    "import json"
   ]
  },
  {
   "cell_type": "code",
   "execution_count": 2,
   "id": "05b44b38-df97-492f-8017-add0d1023bef",
   "metadata": {},
   "outputs": [],
   "source": [
    "def generate_coordinates(n,num):\n",
    "    coord_list = []\n",
    "    for _ in range(num):\n",
    "        coord = np.round(np.random.rand(n,2),2).tolist()\n",
    "        coord_list.append(coord)\n",
    "    return coord_list"
   ]
  },
  {
   "cell_type": "code",
   "execution_count": 3,
   "id": "584af160-2ab9-45d9-9dd0-affe3e101d5d",
   "metadata": {},
   "outputs": [],
   "source": [
    "tsps = {}\n",
    "for n in range(8,15):\n",
    "    tsps[str(n)] = generate_coordinates(n, 48)"
   ]
  },
  {
   "cell_type": "code",
   "execution_count": 4,
   "id": "9f274354-7ce1-4657-8574-221e06971d07",
   "metadata": {},
   "outputs": [],
   "source": [
    "with open(\"8_14_tsps.json\", \"w\") as outfile: \n",
    "    json.dump(tsps, outfile)"
   ]
  }
 ],
 "metadata": {
  "kernelspec": {
   "display_name": "Python 3 (ipykernel)",
   "language": "python",
   "name": "python3"
  },
  "language_info": {
   "codemirror_mode": {
    "name": "ipython",
    "version": 3
   },
   "file_extension": ".py",
   "mimetype": "text/x-python",
   "name": "python",
   "nbconvert_exporter": "python",
   "pygments_lexer": "ipython3",
   "version": "3.10.8"
  }
 },
 "nbformat": 4,
 "nbformat_minor": 5
}
